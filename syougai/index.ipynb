{
 "cells": [
  {
   "cell_type": "code",
   "execution_count": 32,
   "metadata": {},
   "outputs": [],
   "source": [
    "import pandas as pd\n",
    "from whoosh.fields import Schema, ID, STORED, NGRAM\n",
    "from whoosh.filedb.filestore import FileStorage"
   ]
  },
  {
   "cell_type": "code",
   "execution_count": 33,
   "metadata": {},
   "outputs": [],
   "source": [
    "df = pd.read_csv(\"syogai1.csv\")"
   ]
  },
  {
   "cell_type": "code",
   "execution_count": 34,
   "metadata": {},
   "outputs": [
    {
     "data": {
      "text/plain": [
       "Index(['#', 'プロジェクト', 'トラッカー', '親チケット', 'ステータス', '優先度', '題名', '作成者', '担当者',\n",
       "       '更新日', '合計予定工数', '作成日', '終了日', '関連するチケット', '次更新担当', 'サブシステム', '発生日',\n",
       "       '発生時間', '暫定対処済', '原因分類', '障害原因／対応方法', '新規識別', '★Com担当者', '★次アクション',\n",
       "       '★重点チケット', '影響範囲（サービス影響あり）', '影響範囲（業務影響あり）', '次期課題', 'プライベート', '説明',\n",
       "       'Unnamed: 30'],\n",
       "      dtype='object')"
      ]
     },
     "execution_count": 34,
     "metadata": {},
     "output_type": "execute_result"
    }
   ],
   "source": [
    "df.columns"
   ]
  },
  {
   "cell_type": "code",
   "execution_count": 35,
   "metadata": {},
   "outputs": [],
   "source": [
    "setsumei = list(df['説明'])"
   ]
  },
  {
   "cell_type": "code",
   "execution_count": 36,
   "metadata": {},
   "outputs": [],
   "source": [
    "daimei = list(df['題名'])"
   ]
  },
  {
   "cell_type": "code",
   "execution_count": 37,
   "metadata": {},
   "outputs": [],
   "source": [
    "geNin = list(df['障害原因／対応方法'])"
   ]
  },
  {
   "cell_type": "code",
   "execution_count": 41,
   "metadata": {},
   "outputs": [
    {
     "ename": "LockError",
     "evalue": "",
     "output_type": "error",
     "traceback": [
      "\u001b[0;31m---------------------------------------------------------------------------\u001b[0m",
      "\u001b[0;31mLockError\u001b[0m                                 Traceback (most recent call last)",
      "\u001b[0;32m<ipython-input-41-c13c294a15d5>\u001b[0m in \u001b[0;36m<module>\u001b[0;34m()\u001b[0m\n\u001b[1;32m      5\u001b[0m \u001b[0mix\u001b[0m \u001b[0;34m=\u001b[0m \u001b[0mstorage\u001b[0m\u001b[0;34m.\u001b[0m\u001b[0mcreate_index\u001b[0m\u001b[0;34m(\u001b[0m\u001b[0mschema\u001b[0m\u001b[0;34m)\u001b[0m\u001b[0;34m\u001b[0m\u001b[0m\n\u001b[1;32m      6\u001b[0m \u001b[0mstorage\u001b[0m\u001b[0;34m.\u001b[0m\u001b[0mopen_index\u001b[0m\u001b[0;34m(\u001b[0m\u001b[0;34m)\u001b[0m\u001b[0;34m\u001b[0m\u001b[0m\n\u001b[0;32m----> 7\u001b[0;31m \u001b[0mwriter\u001b[0m \u001b[0;34m=\u001b[0m \u001b[0mix\u001b[0m\u001b[0;34m.\u001b[0m\u001b[0mwriter\u001b[0m\u001b[0;34m(\u001b[0m\u001b[0;34m)\u001b[0m\u001b[0;34m\u001b[0m\u001b[0m\n\u001b[0m\u001b[1;32m      8\u001b[0m \u001b[0;34m\u001b[0m\u001b[0m\n\u001b[1;32m      9\u001b[0m \u001b[0;32mfor\u001b[0m \u001b[0mdai\u001b[0m\u001b[0;34m,\u001b[0m \u001b[0msetsu\u001b[0m\u001b[0;34m,\u001b[0m \u001b[0mgeN\u001b[0m \u001b[0;32min\u001b[0m \u001b[0mzip\u001b[0m\u001b[0;34m(\u001b[0m\u001b[0mdaimei\u001b[0m\u001b[0;34m,\u001b[0m \u001b[0msetsumei\u001b[0m\u001b[0;34m,\u001b[0m \u001b[0mgeNin\u001b[0m\u001b[0;34m)\u001b[0m\u001b[0;34m:\u001b[0m\u001b[0;34m\u001b[0m\u001b[0m\n",
      "\u001b[0;32m~/anaconda3/lib/python3.6/site-packages/whoosh/index.py\u001b[0m in \u001b[0;36mwriter\u001b[0;34m(self, procs, **kwargs)\u001b[0m\n\u001b[1;32m    462\u001b[0m         \u001b[0;32melse\u001b[0m\u001b[0;34m:\u001b[0m\u001b[0;34m\u001b[0m\u001b[0m\n\u001b[1;32m    463\u001b[0m             \u001b[0;32mfrom\u001b[0m \u001b[0mwhoosh\u001b[0m\u001b[0;34m.\u001b[0m\u001b[0mwriting\u001b[0m \u001b[0;32mimport\u001b[0m \u001b[0mSegmentWriter\u001b[0m\u001b[0;34m\u001b[0m\u001b[0m\n\u001b[0;32m--> 464\u001b[0;31m             \u001b[0;32mreturn\u001b[0m \u001b[0mSegmentWriter\u001b[0m\u001b[0;34m(\u001b[0m\u001b[0mself\u001b[0m\u001b[0;34m,\u001b[0m \u001b[0;34m**\u001b[0m\u001b[0mkwargs\u001b[0m\u001b[0;34m)\u001b[0m\u001b[0;34m\u001b[0m\u001b[0m\n\u001b[0m\u001b[1;32m    465\u001b[0m \u001b[0;34m\u001b[0m\u001b[0m\n\u001b[1;32m    466\u001b[0m     \u001b[0;32mdef\u001b[0m \u001b[0mlock\u001b[0m\u001b[0;34m(\u001b[0m\u001b[0mself\u001b[0m\u001b[0;34m,\u001b[0m \u001b[0mname\u001b[0m\u001b[0;34m)\u001b[0m\u001b[0;34m:\u001b[0m\u001b[0;34m\u001b[0m\u001b[0m\n",
      "\u001b[0;32m~/anaconda3/lib/python3.6/site-packages/whoosh/writing.py\u001b[0m in \u001b[0;36m__init__\u001b[0;34m(self, ix, poolclass, timeout, delay, _lk, limitmb, docbase, codec, compound, **kwargs)\u001b[0m\n\u001b[1;32m    513\u001b[0m             if not try_for(self.writelock.acquire, timeout=timeout,\n\u001b[1;32m    514\u001b[0m                            delay=delay):\n\u001b[0;32m--> 515\u001b[0;31m                 \u001b[0;32mraise\u001b[0m \u001b[0mLockError\u001b[0m\u001b[0;34m\u001b[0m\u001b[0m\n\u001b[0m\u001b[1;32m    516\u001b[0m \u001b[0;34m\u001b[0m\u001b[0m\n\u001b[1;32m    517\u001b[0m         \u001b[0;32mif\u001b[0m \u001b[0mcodec\u001b[0m \u001b[0;32mis\u001b[0m \u001b[0;32mNone\u001b[0m\u001b[0;34m:\u001b[0m\u001b[0;34m\u001b[0m\u001b[0m\n",
      "\u001b[0;31mLockError\u001b[0m: "
     ]
    }
   ],
   "source": [
    "schema = Schema(daimei=NGRAM(stored=True),\n",
    "                setsumei=NGRAM(stored=True),\n",
    "                genin=NGRAM(stored=True))\n",
    "storage = FileStorage(\"indexdir\")\n",
    "ix = storage.create_index(schema)\n",
    "storage.open_index()\n",
    "writer = ix.writer()\n",
    "\n",
    "for dai, setsu, geN in zip(daimei, setsumei, geNin):\n",
    "    writer.add_document(daimei=dai, setsumei=setsu, genin=geN)\n",
    "writer.commit(optimize=True)"
   ]
  },
  {
   "cell_type": "code",
   "execution_count": null,
   "metadata": {},
   "outputs": [],
   "source": []
  }
 ],
 "metadata": {
  "kernelspec": {
   "display_name": "Python 3",
   "language": "python",
   "name": "python3"
  },
  "language_info": {
   "codemirror_mode": {
    "name": "ipython",
    "version": 3
   },
   "file_extension": ".py",
   "mimetype": "text/x-python",
   "name": "python",
   "nbconvert_exporter": "python",
   "pygments_lexer": "ipython3",
   "version": "3.6.4"
  }
 },
 "nbformat": 4,
 "nbformat_minor": 2
}
